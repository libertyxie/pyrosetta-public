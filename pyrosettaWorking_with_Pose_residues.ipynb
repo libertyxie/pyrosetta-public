{
  "nbformat": 4,
  "nbformat_minor": 0,
  "metadata": {
    "colab": {
      "name": "pyrosettaWorking with Pose residues.ipynb",
      "provenance": [],
      "authorship_tag": "ABX9TyMbrI/nV69srwEemrfezKse",
      "include_colab_link": true
    },
    "kernelspec": {
      "name": "python3",
      "display_name": "Python 3"
    },
    "language_info": {
      "name": "python"
    }
  },
  "cells": [
    {
      "cell_type": "markdown",
      "metadata": {
        "id": "view-in-github",
        "colab_type": "text"
      },
      "source": [
        "<a href=\"https://colab.research.google.com/github/libertyxie/pyrosetta-public/blob/main/pyrosettaWorking_with_Pose_residues.ipynb\" target=\"_parent\"><img src=\"https://colab.research.google.com/assets/colab-badge.svg\" alt=\"Open In Colab\"/></a>"
      ]
    },
    {
      "cell_type": "markdown",
      "source": [
        "Pose residue"
      ],
      "metadata": {
        "id": "dWUJtkChqoZ6"
      }
    },
    {
      "cell_type": "code",
      "execution_count": null,
      "metadata": {
        "id": "FYppo_9VgTzc"
      },
      "outputs": [],
      "source": [
        "print(pose.pdb_info().chain(24))\n",
        "A\n",
        "print(pose.pdb_info().number(24))\n",
        "47\n",
        "print(pose.pdb_info().pdb2pose('A', 24))\n",
        "1\n",
        "print(pose.pdb_info().pose2pdb(1))\n",
        "24 A\n",
        "res_24 = pose.residue(24)\n",
        "print(res_24.name())\n",
        "print(res_24.is_charged())\n",
        "ARG\n",
        "True"
      ]
    },
    {
      "cell_type": "markdown",
      "source": [
        "Getting spatial features from a Pose"
      ],
      "metadata": {
        "id": "Bj6_f-0cquY6"
      }
    },
    {
      "cell_type": "code",
      "source": [
        "resid = pose.pdb_info().pdb2pose('A', 28) #pdb to pose 查看角度\n",
        "print(\"phi:\", pose.phi(resid))\n",
        "print(\"psi:\", pose.psi(resid))\n",
        "print(\"chi1:\", pose.chi(1, resid))\n",
        "\n",
        "res_28 = pose.residue(resid)\n",
        "N28 = AtomID(res_28.atom_index(\"N\"), resid)\n",
        "CA28 = AtomID(res_28.atom_index(\"CA\"), resid)\n",
        "C28 = AtomID(res_28.atom_index(\"C\"), resid)\n",
        "\n",
        "print(pose.conformation().bond_length(N28, CA28))\n",
        "print(pose.conformation().bond_length(CA28, C28))"
      ],
      "metadata": {
        "id": "ukpysao0qu3w"
      },
      "execution_count": null,
      "outputs": []
    },
    {
      "cell_type": "code",
      "source": [
        ""
      ],
      "metadata": {
        "id": "3h6Jq5RG-tzg"
      },
      "execution_count": null,
      "outputs": []
    }
  ]
}